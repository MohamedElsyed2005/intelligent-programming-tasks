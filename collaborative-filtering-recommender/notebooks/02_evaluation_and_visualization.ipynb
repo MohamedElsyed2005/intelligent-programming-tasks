{
 "cells": [
  {
   "cell_type": "code",
   "execution_count": 1,
   "id": "d3b0ce58",
   "metadata": {},
   "outputs": [],
   "source": [
    "import pandas as pd\n",
    "import sys\n",
    "import os\n",
    "sys.path.append(os.path.abspath('..'))\n",
    "import numpy as np\n",
    "import matplotlib.pyplot as plt\n",
    "import json\n",
    "import os\n",
    "\n",
    "from src.recommender import (\n",
    "    create_user_item_matrix,\n",
    "    compute_similarity,\n",
    "    get_top_n_recommendations,\n",
    "    save_top_n_all_users,\n",
    "    predict_rating_user_based,\n",
    "    predict_rating_item_based\n",
    ")"
   ]
  },
  {
   "cell_type": "code",
   "execution_count": 2,
   "id": "0cb76881",
   "metadata": {},
   "outputs": [],
   "source": [
    "df = pd.read_csv(\"../data/ratings_merged.csv\")"
   ]
  },
  {
   "cell_type": "code",
   "execution_count": 3,
   "id": "3f03ebfd",
   "metadata": {},
   "outputs": [],
   "source": [
    "ratings_matrix = create_user_item_matrix(df)"
   ]
  },
  {
   "cell_type": "code",
   "execution_count": 4,
   "id": "69c62d7c",
   "metadata": {},
   "outputs": [],
   "source": [
    "user_similarity = compute_similarity(ratings_matrix, kind='user')\n",
    "item_similarity = compute_similarity(ratings_matrix, kind='item')"
   ]
  },
  {
   "cell_type": "code",
   "execution_count": 5,
   "id": "3024f8b9",
   "metadata": {},
   "outputs": [],
   "source": [
    "def compute_rmse(ratings_matrix, similarity_matrix, kind='user', sample_size=1000):\n",
    "    true_ratings = []\n",
    "    predicted_ratings = []\n",
    "\n",
    "    sampled = ratings_matrix.stack().sample(sample_size, random_state=42)\n",
    "    for (user_id, item_id), true_rating in sampled.items():\n",
    "        if kind == 'user':\n",
    "            pred = predict_rating_user_based(user_id, item_id, ratings_matrix, similarity_matrix)\n",
    "        else:\n",
    "            pred = predict_rating_item_based(user_id, item_id, ratings_matrix, similarity_matrix)\n",
    "        \n",
    "        if not np.isnan(pred):\n",
    "            true_ratings.append(true_rating)\n",
    "            predicted_ratings.append(pred)\n",
    "\n",
    "    mse = np.mean((np.array(true_ratings) - np.array(predicted_ratings)) ** 2)\n",
    "    return np.sqrt(mse)"
   ]
  },
  {
   "cell_type": "code",
   "execution_count": 6,
   "id": "d4f06345",
   "metadata": {},
   "outputs": [
    {
     "name": "stdout",
     "output_type": "stream",
     "text": [
      "Evaluating User-Based CF...\n",
      "User-Based RMSE: 3.0758\n",
      "Evaluating Item-Based CF...\n",
      "Item-Based RMSE: 3.5872\n"
     ]
    }
   ],
   "source": [
    "print(\"Evaluating User-Based CF...\")\n",
    "user_rmse = compute_rmse(ratings_matrix, user_similarity, kind='user')\n",
    "print(f\"User-Based RMSE: {user_rmse:.4f}\")\n",
    "\n",
    "print(\"Evaluating Item-Based CF...\")\n",
    "item_rmse = compute_rmse(ratings_matrix, item_similarity, kind='item')\n",
    "print(f\"Item-Based RMSE: {item_rmse:.4f}\")"
   ]
  },
  {
   "cell_type": "code",
   "execution_count": 10,
   "id": "36547b28",
   "metadata": {},
   "outputs": [],
   "source": [
    "os.makedirs(\"../results\", exist_ok=True)\n",
    "with open(\"../results/evaluation_metrics.json\", \"w\") as f:\n",
    "    json.dump({\n",
    "        \"user_based_rmse\": user_rmse,\n",
    "        \"item_based_rmse\": item_rmse\n",
    "    }, f, indent=4)"
   ]
  },
  {
   "cell_type": "code",
   "execution_count": 11,
   "id": "eee55348",
   "metadata": {},
   "outputs": [
    {
     "name": "stdout",
     "output_type": "stream",
     "text": [
      "Saved recommendations to ../results/top_n_recommendations.csv\n"
     ]
    }
   ],
   "source": [
    "save_top_n_all_users(ratings_matrix, user_similarity, kind='user', n=10)"
   ]
  },
  {
   "cell_type": "code",
   "execution_count": 7,
   "id": "5002ea5a",
   "metadata": {},
   "outputs": [
    {
     "data": {
      "image/png": "[encoded data removed]",
      "text/plain": [
       "<Figure size 600x400 with 1 Axes>"
      ]
     },
     "metadata": {},
     "output_type": "display_data"
    }
   ],
   "source": [
    "labels = ['User-Based', 'Item-Based']\n",
    "rmse_values = [user_rmse, item_rmse]\n",
    "\n",
    "plt.figure(figsize=(6, 4))\n",
    "plt.bar(labels, rmse_values, color=['skyblue', 'salmon'])\n",
    "plt.title('RMSE Comparison')\n",
    "plt.ylabel('RMSE')\n",
    "plt.grid(axis='y', linestyle='--', alpha=0.7)\n",
    "plt.show()"
   ]
  },
  {
   "cell_type": "code",
   "execution_count": 8,
   "id": "de88d8ff",
   "metadata": {},
   "outputs": [
    {
     "name": "stdout",
     "output_type": "stream",
     "text": [
      "Precision@10: 0.0020\n",
      "Recall@10: 0.0006\n"
     ]
    }
   ],
   "source": [
    "from src.evaluation import evaluate_precision_recall\n",
    "from src.recommender import get_top_n_recommendations\n",
    "\n",
    "avg_prec, avg_rec = evaluate_precision_recall(\n",
    "    df=df,\n",
    "    ratings_matrix=ratings_matrix,\n",
    "    similarity_matrix=user_similarity,\n",
    "    kind='user',\n",
    "    k=10,\n",
    "    n_users=100,\n",
    "    get_top_n_func=get_top_n_recommendations\n",
    ")\n",
    "\n",
    "print(f\"Precision@10: {avg_prec:.4f}\")\n",
    "print(f\"Recall@10: {avg_rec:.4f}\")"
   ]
  }
 ],
 "metadata": {
  "kernelspec": {
   "display_name": "Python 3",
   "language": "python",
   "name": "python3"
  },
  "language_info": {
   "codemirror_mode": {
    "name": "ipython",
    "version": 3
   },
   "file_extension": ".py",
   "mimetype": "text/x-python",
   "name": "python",
   "nbconvert_exporter": "python",
   "pygments_lexer": "ipython3",
   "version": "3.12.4"
  }
 },
 "nbformat": 4,
 "nbformat_minor": 5
}
