{
 "cells": [
  {
   "cell_type": "code",
   "execution_count": 1,
   "id": "bb2546be",
   "metadata": {},
   "outputs": [],
   "source": [
    "import pandas as pd\n",
    "\n",
    "news_df = pd.read_csv(\"../data/news_with_similarity.csv\")"
   ]
  },
  {
   "cell_type": "code",
   "execution_count": 2,
   "id": "bb1f0915",
   "metadata": {},
   "outputs": [],
   "source": [
    "top_recommendations = news_df.sort_values(by=\"similarity\", ascending=False)[\n",
    "    [\"title\", \"category\", \"similarity\"]\n",
    "].head(10)"
   ]
  },
  {
   "cell_type": "code",
   "execution_count": 3,
   "id": "2d05fe56",
   "metadata": {},
   "outputs": [],
   "source": [
    "top_recommendations.to_csv(\"../result/top_recommendations.csv\", index=False)"
   ]
  }
 ],
 "metadata": {
  "kernelspec": {
   "display_name": "Python 3",
   "language": "python",
   "name": "python3"
  },
  "language_info": {
   "codemirror_mode": {
    "name": "ipython",
    "version": 3
   },
   "file_extension": ".py",
   "mimetype": "text/x-python",
   "name": "python",
   "nbconvert_exporter": "python",
   "pygments_lexer": "ipython3",
   "version": "3.12.4"
  }
 },
 "nbformat": 4,
 "nbformat_minor": 5
}
